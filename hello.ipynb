{
 "cells": [
  {
   "cell_type": "markdown",
   "id": "a5847c08",
   "metadata": {},
   "source": [
    "# hello World\n",
    "## this is KAushik \n",
    "###### ML Is NEw for me \n",
    "this is a paragraph. "
   ]
  },
  {
   "cell_type": "markdown",
   "id": "0dc8beb2",
   "metadata": {},
   "source": [
    " No guns, no *killing*. Accomplice? I'm gonna tell them the whole thing was your idea.\n",
    "\n",
    " I will go back to **Gotham** and I will fight men Iike this but I will not become an [xecutioner](www.google.com). Swear to me!\n",
    " \n",
    "\n",
    "1. this \n",
    "1. is \n",
    "1. aawesome \n",
    "\n",
    "---\n",
    " Bats frighten me. It's time my enemies shared my dread. Well, you see... I'm buying this hotel and setting some new rules about the pool area. Well, you see... I'm buying this hotel and setting some new rules about the pool area.\n",
    "\n",
    " Bruce Wayne, eccentric billionaire. I'll be standing where l belong. Between you and the peopIe of Gotham.\n",
    "\n"
   ]
  },
  {
   "cell_type": "markdown",
   "id": "2c81293a",
   "metadata": {},
   "source": []
  }
 ],
 "metadata": {
  "language_info": {
   "name": "python"
  }
 },
 "nbformat": 4,
 "nbformat_minor": 5
}
